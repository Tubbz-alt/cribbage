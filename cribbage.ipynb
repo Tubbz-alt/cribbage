{
 "cells": [
  {
   "cell_type": "code",
   "execution_count": 1,
   "metadata": {
    "collapsed": true,
    "slideshow": {
     "slide_type": "slide"
    }
   },
   "outputs": [],
   "source": [
    "from itertools import combinations \n",
    "from random import shuffle \n",
    "import numpy as np \n",
    "import sys"
   ]
  },
  {
   "cell_type": "code",
   "execution_count": 2,
   "metadata": {
    "collapsed": false
   },
   "outputs": [],
   "source": [
    "# general stuff that will work for any card game \n",
    "\n",
    "class Card:\n",
    "    \n",
    "    def __repr__( self ):\n",
    "        return '{}{}'.format( self.display_rank, self.display_suit )\n",
    "    \n",
    "    def __init__( self, suit, rank ):\n",
    "        display_suits = [ 's', 'h', 'c', 'd' ]\n",
    "        display_ranks = [ 'A', 2, 3, 4, 5, 6, 7, 8, 9, 10, 'J', 'Q', 'K' ]\n",
    "        vals = [ 1, 2, 3, 4, 5, 6, 7, 8, 9, 10, 10, 10, 10 ]\n",
    "        map_suits = dict(zip(range(4),display_suits))\n",
    "        map_ranks = dict(zip(range(13),display_ranks))\n",
    "        map_vals = dict(zip(range(13),vals))\n",
    "\n",
    "        self.suit = suit\n",
    "        self.rank = rank \n",
    "        self.index = (13*self.suit)+self.rank\n",
    "        self.display_rank = map_ranks[ self.rank ]\n",
    "        self.display_suit = map_suits[ self.suit ]\n",
    "        self.value = map_vals[ self.rank ]\n",
    "        \n",
    "class Deck:\n",
    "    def __init__( self ):\n",
    "        self.cards = []\n",
    "        for s in range( 4 ):\n",
    "            for r in range( 13 ):\n",
    "                self.cards.append(Card(s, r))\n",
    "                \n",
    "    def shuffle( self ):\n",
    "        shuffle( self.cards )\n",
    "        \n",
    "    def draw( self, n ):\n",
    "        result = []\n",
    "        for i in range( n or 1 ):\n",
    "            result.append( self.cards.pop() ) \n",
    "        return result "
   ]
  },
  {
   "cell_type": "code",
   "execution_count": 3,
   "metadata": {
    "collapsed": false
   },
   "outputs": [
    {
     "data": {
      "text/plain": [
       "[3c, 2d, 9d, 9c, 6s]"
      ]
     },
     "execution_count": 3,
     "metadata": {},
     "output_type": "execute_result"
    }
   ],
   "source": [
    "deck = Deck()\n",
    "deck.shuffle()\n",
    "deck.draw(5)"
   ]
  },
  {
   "cell_type": "code",
   "execution_count": 4,
   "metadata": {
    "collapsed": false,
    "scrolled": false
   },
   "outputs": [],
   "source": [
    "# def play_a_game():\n",
    "#     '''\n",
    "#     Plays a game of cribbage. Returns a winner, 0 or 1\n",
    "#     '''\n",
    "#     sc = np.array([0,0]) \n",
    "#     hand_count = 0 \n",
    "#     while True:\n",
    "#         hand_count += 1\n",
    "#         print( '>>> Hand count:', hand_count ) \n",
    "#         print( '>>> Game score:', sc )\n",
    "#         outcome = play_a_hand()\n",
    "#         sc += np.array(outcome)\n",
    "#         for i, p in enumerate( sc ):\n",
    "#             if p > 120:\n",
    "#                 return i \n",
    "        \n",
    "# play_a_game()"
   ]
  },
  {
   "cell_type": "code",
   "execution_count": 5,
   "metadata": {
    "collapsed": false,
    "scrolled": false
   },
   "outputs": [],
   "source": [
    "# # play 10000 games \n",
    "\n",
    "# features = []\n",
    "# target = []\n",
    "# n_games = 10\n",
    "# for n in range( n_games ): \n",
    "#     outcome, play_vector = play_a_game()\n",
    "#     target.append( outcome ) \n",
    "#     features.append( play_vector ) \n",
    "#     sys.stdout.write(\"\\rPlaying game {} of {} games\".format( n+1, n_games ) )\n",
    "#     sys.stdout.flush()\n",
    "# sys.stdout.write(\"\\rPlayed {0}/{0} games. Done.  \".format( n_games ) )\n",
    "# sys.stdout.flush()"
   ]
  },
  {
   "cell_type": "code",
   "execution_count": 6,
   "metadata": {
    "collapsed": true
   },
   "outputs": [],
   "source": [
    "# %matplotlib inline \n",
    "# import matplotlib.pyplot as plt\n",
    "# from sklearn import preprocessing, metrics, svm, linear_model, model_selection"
   ]
  },
  {
   "cell_type": "code",
   "execution_count": 7,
   "metadata": {
    "collapsed": false
   },
   "outputs": [],
   "source": [
    "# features = np.array(features)\n",
    "# # features.shape"
   ]
  },
  {
   "cell_type": "code",
   "execution_count": 8,
   "metadata": {
    "collapsed": false
   },
   "outputs": [],
   "source": [
    "# one_hot = preprocessing.OneHotEncoder()\n",
    "# transformed = one_hot.fit_transform( features ) \n",
    "# transformed.shape"
   ]
  },
  {
   "cell_type": "code",
   "execution_count": 9,
   "metadata": {
    "collapsed": false
   },
   "outputs": [],
   "source": [
    "# for i in range( 10 ):\n",
    "#     X_train, X_test, y_train, y_test = model_selection.train_test_split(transformed, target, test_size=0.33)\n",
    "#     clf = svm.SVC(kernel='linear',probability=True)\n",
    "#     clf.fit( X_train, y_train ) \n",
    "#     pred = clf.predict( X_test ) \n",
    "#     prob = clf.predict_proba( X_test )\n",
    "#     fpr, tpr, __ = metrics.roc_curve( y_test, prob[:,0] ) \n",
    "#     plt.plot( fpr, tpr ) "
   ]
  },
  {
   "cell_type": "markdown",
   "metadata": {},
   "source": [
    "1. First, see if there's a mvove th computer can make that will win the game (i.e. make the score 31). If there is, take that move. Otherwise, go to setp 2. \n",
    "\n",
    "2. See if there's a move the player could make that would cause the computer to lose the game (i.e. play a card such that computer cannot play). If there is, block that move. \n",
    "\n",
    "3. Play a predefined good/safe card. \n",
    "\n",
    "4. Play a different predefined safe card. \n",
    "\n",
    "5. Play the only legal card. \n",
    "\n",
    "6. Say \"go\" . "
   ]
  },
  {
   "cell_type": "code",
   "execution_count": 37,
   "metadata": {
    "collapsed": true
   },
   "outputs": [],
   "source": [
    "# players \n",
    "\n",
    "class Player():\n",
    "    def __init__( self, name ): \n",
    "        self.name = name \n",
    "        self.hand = []\n",
    "        self.score = 0\n",
    "    def ask_for_discards( self ):\n",
    "        return [self.hand.pop(), self.hand.pop()] \n",
    "    def clean( self ):\n",
    "        self.hand = []\n",
    "        self.score = 0 \n",
    "            \n",
    "class HumanPlayer(Player):\n",
    "    def ask_for_input( self, hand ):\n",
    "        d = dict(enumerate(hand,1))\n",
    "        inp = input( 'Choose one of {}'.format( d.values() ) )\n",
    "        card = d[ int(inp) ]\n",
    "        return card \n",
    "\n",
    "class NondeterministicAIPlayer(Player):\n",
    "    def ask_for_input(self, hand):\n",
    "        card = np.random.choice(hand) \n",
    "        return card\n",
    "    \n",
    "# class NondeterministicAIPlayer(Player):\n",
    "class AIPlayer(Player):\n",
    "    def ask_for_input(self, hand):\n",
    "        card = np.random.choice(hand) \n",
    "        # not a very smart AI\n",
    "        # can it fool will? \n",
    "        return card"
   ]
  },
  {
   "cell_type": "code",
   "execution_count": 38,
   "metadata": {
    "collapsed": true
   },
   "outputs": [],
   "source": [
    "def discards( players ):\n",
    "    crib = []\n",
    "    for player in players:            \n",
    "        discards = player.ask_for_discards()\n",
    "        for c in discards:\n",
    "            crib.append(c) \n",
    "    return crib "
   ]
  },
  {
   "cell_type": "code",
   "execution_count": 39,
   "metadata": {
    "collapsed": false,
    "scrolled": false
   },
   "outputs": [],
   "source": [
    "def counting( players ):\n",
    "    \n",
    "    # counting functions \n",
    "    def play( card ):\n",
    "        nonlocal count, turn, hands\n",
    "        plays.append( card ) \n",
    "        count += card.value\n",
    "        hands[turn] = [ n for n in hands[turn] if n != card ]         \n",
    "        #print( card, 'was played by player', turn ) \n",
    "        return count, hands \n",
    "\n",
    "    def say_go():\n",
    "        nonlocal score \n",
    "        pass \n",
    "    \n",
    "    def validate_play( card, count ):\n",
    "        if card.value + count < 32:\n",
    "            return True \n",
    "        else:\n",
    "            return False \n",
    "    \n",
    "    # game logic         \n",
    "    hands = [player.hand for player in players]\n",
    "    turn = np.random.randint(2) # either 0 or 1 \n",
    "    count = 0\n",
    "    plays = []\n",
    "    play_runs = []\n",
    "    score = np.array([0,0]) # get a player's score like score[player_number] \n",
    "\n",
    "    while all(hands): # while all hands are not empty \n",
    "        game_on = True\n",
    "        while game_on: # we are counting toward 31 \n",
    "            #print( count, tuple(score) ) \n",
    "\n",
    "            # first, does whomever's turn it is even have cards? \n",
    "            if not hands[turn]:\n",
    "                break # out of while game_on \n",
    "            # first, is whoever's turn it is even have a legal move\n",
    "            # or do they have to say \"go\"? \n",
    "            if all([count+card.value>31 for card in hands[turn]]):\n",
    "                # they have to say \"go\" \n",
    "                # other person gets 1 point \n",
    "                score[turn^1] += 1 \n",
    "                #print( \"Go --- player\", turn ) \n",
    "                break # out of \"while game_on\" \n",
    "\n",
    "            # generic turn \n",
    "            done = False\n",
    "            while not done: \n",
    "                card = players[turn].ask_for_input(hands[turn])\n",
    "                done = validate_play(card, count)\n",
    "            play(card) \n",
    "\n",
    "            # score and set up for next iteration \n",
    "            # current player is \n",
    "            if count == 31:\n",
    "                # we are done, son \n",
    "                score[ turn ] += 2 # 31 for 2 \n",
    "                break \n",
    "            if count == 15:\n",
    "                score[ turn ] += 2 # 15 for 2 \n",
    "\n",
    "            # swap turn     \n",
    "            turn ^= 1 # swap turn \n",
    "\n",
    "        # anything you want to happen after we stop couting to 31 \n",
    "        #print( \"Plays to 31:\", plays ) \n",
    "        play_runs.append( plays ) \n",
    "        count = 0 \n",
    "        plays = []\n",
    "        \n",
    "    # anything you want to happen after we don't have any cards left \n",
    "    # return from \"counting\" function \n",
    "    return score "
   ]
  },
  {
   "cell_type": "code",
   "execution_count": 40,
   "metadata": {
    "collapsed": true
   },
   "outputs": [],
   "source": [
    "# cribbage scoring \n",
    "# ai may never know this \n",
    "def score( hand ):\n",
    "\n",
    "    points = 0\n",
    "    assert len(hand) == 5\n",
    "\n",
    "    # fifteens  \n",
    "    for vector_length in [ 2, 3, 4, 5 ]:\n",
    "        for vector in combinations( hand, vector_length ):\n",
    "            if sum( [ card.value for card in vector ] ) == 15:\n",
    "                points += 2 \n",
    "\n",
    "    # pairs (not necessary to account for more than pairs)\n",
    "    for i, j in combinations( hand, 2 ):\n",
    "        if i.rank == j.rank:\n",
    "            points += 2 \n",
    "\n",
    "    # runs\n",
    "    for vector_len in [ 5, 4, 3 ]:\n",
    "        for vec in combinations( hand, vector_len ):\n",
    "            vals = [ card.value for card in vec ]\n",
    "            run = [ n + min( vals ) for n in range( vector_len ) ]\n",
    "            if sorted( vals ) == run:\n",
    "                points += vector_len\n",
    "                break\n",
    "            break \n",
    "                      \n",
    "    return points \n",
    "\n",
    "def scoring(players, turn_card):\n",
    "    for player in players:\n",
    "        pool = player.hand + turn_card \n",
    "        player.score += score(pool) "
   ]
  },
  {
   "cell_type": "code",
   "execution_count": 46,
   "metadata": {
    "collapsed": false,
    "scrolled": false
   },
   "outputs": [
    {
     "data": {
      "text/plain": [
       "[[119, 121],\n",
       " [104, 121],\n",
       " [106, 123],\n",
       " [116, 127],\n",
       " [90, 123],\n",
       " [122, 87],\n",
       " [120, 125],\n",
       " [127, 88],\n",
       " [106, 126],\n",
       " [122, 94],\n",
       " [122, 120],\n",
       " [124, 103],\n",
       " [128, 123],\n",
       " [128, 123],\n",
       " [120, 126],\n",
       " [128, 98],\n",
       " [123, 84],\n",
       " [124, 112],\n",
       " [116, 129],\n",
       " [125, 108],\n",
       " [96, 123],\n",
       " [60, 123],\n",
       " [126, 96],\n",
       " [121, 116],\n",
       " [94, 132],\n",
       " [122, 112],\n",
       " [96, 126],\n",
       " [99, 127],\n",
       " [122, 88],\n",
       " [127, 100],\n",
       " [122, 111],\n",
       " [111, 130],\n",
       " [106, 125],\n",
       " [121, 118],\n",
       " [132, 95],\n",
       " [113, 121],\n",
       " [99, 125],\n",
       " [127, 84],\n",
       " [109, 121],\n",
       " [128, 115],\n",
       " [64, 130],\n",
       " [109, 124],\n",
       " [98, 132],\n",
       " [127, 97],\n",
       " [130, 99],\n",
       " [128, 102],\n",
       " [113, 122],\n",
       " [123, 126],\n",
       " [126, 116],\n",
       " [123, 114]]"
      ]
     },
     "execution_count": 46,
     "metadata": {},
     "output_type": "execute_result"
    }
   ],
   "source": [
    "#players = [HumanPlayer('alex'), NondeterministicAIPlayer('will')]\n",
    "ply = [NondeterministicAIPlayer('p1'), NondeterministicAIPlayer('p2')]\n",
    "\n",
    "def the_real_game(players):\n",
    "    \n",
    "    while players[0].score < 121 and players[1].score < 121:\n",
    "        turn = np.random.randint(2)\n",
    "        deck = Deck()\n",
    "        deck.shuffle()\n",
    "        for player in players:\n",
    "            player.hand = deck.draw(6)    \n",
    "        crib = discards(players)\n",
    "        counting(players)    \n",
    "        turn_card = deck.draw(1)\n",
    "        scoring(players, turn_card)\n",
    "        players[turn^1].score += score(crib+turn_card)\n",
    "    \n",
    "    return_val = [ player.score for player in players ] \n",
    "    for player in players:\n",
    "        player.clean()\n",
    "    return return_val \n",
    "        \n",
    "[the_real_game(ply) for n in range(50)]"
   ]
  },
  {
   "cell_type": "code",
   "execution_count": null,
   "metadata": {
    "collapsed": true
   },
   "outputs": [],
   "source": []
  }
 ],
 "metadata": {
  "kernelspec": {
   "display_name": "Python [conda root]",
   "language": "python",
   "name": "conda-root-py"
  },
  "language_info": {
   "codemirror_mode": {
    "name": "ipython",
    "version": 3
   },
   "file_extension": ".py",
   "mimetype": "text/x-python",
   "name": "python",
   "nbconvert_exporter": "python",
   "pygments_lexer": "ipython3",
   "version": "3.5.2"
  }
 },
 "nbformat": 4,
 "nbformat_minor": 2
}
