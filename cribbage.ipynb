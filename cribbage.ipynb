{
 "cells": [
  {
   "cell_type": "code",
   "execution_count": 1,
   "metadata": {
    "collapsed": true
   },
   "outputs": [],
   "source": [
    "from itertools import combinations \n",
    "from random import shuffle \n",
    "import numpy as np \n",
    "import sys "
   ]
  },
  {
   "cell_type": "code",
   "execution_count": 2,
   "metadata": {
    "collapsed": false
   },
   "outputs": [],
   "source": [
    "# general stuff that will work for any card game \n",
    "\n",
    "class Card:\n",
    "    \n",
    "    def __repr__( self ):\n",
    "        return '{}{}'.format( self.display_rank, self.display_suit )\n",
    "    \n",
    "    def __init__( self, suit, rank ):\n",
    "        display_suits = [ 's', 'h', 'c', 'd' ]\n",
    "        display_ranks = [ 'A', 2, 3, 4, 5, 6, 7, 8, 9, 10, 'J', 'Q', 'K' ]\n",
    "        vals = [ 1, 2, 3, 4, 5, 6, 7, 8, 9, 10, 10, 10, 10 ]\n",
    "        map_suits = dict(zip(range(4),display_suits))\n",
    "        map_ranks = dict(zip(range(13),display_ranks))\n",
    "        map_vals = dict(zip(range(13),vals))\n",
    "\n",
    "        self.suit = suit\n",
    "        self.rank = rank \n",
    "        self.index = (13*self.suit)+self.rank\n",
    "        self.display_rank = map_ranks[ self.rank ]\n",
    "        self.display_suit = map_suits[ self.suit ]\n",
    "        self.value = map_vals[ self.rank ]\n",
    "        \n",
    "class Deck:\n",
    "    def __init__( self ):\n",
    "        self.cards = []\n",
    "        for s in range( 4 ):\n",
    "            for r in range( 13 ):\n",
    "                self.cards.append(Card(s, r))\n",
    "                \n",
    "    def shuffle( self ):\n",
    "        shuffle( self.cards )\n",
    "        \n",
    "    def draw( self, n ):\n",
    "        result = []\n",
    "        for i in range( n or 1 ):\n",
    "            result.append( self.cards.pop() ) \n",
    "        return result "
   ]
  },
  {
   "cell_type": "code",
   "execution_count": 3,
   "metadata": {
    "collapsed": false
   },
   "outputs": [
    {
     "data": {
      "text/plain": [
       "[Kc, 4h, Ks, 7h, 9s]"
      ]
     },
     "execution_count": 3,
     "metadata": {},
     "output_type": "execute_result"
    }
   ],
   "source": [
    "deck = Deck()\n",
    "deck.shuffle()\n",
    "deck.draw(5)"
   ]
  },
  {
   "cell_type": "code",
   "execution_count": 4,
   "metadata": {
    "collapsed": false
   },
   "outputs": [],
   "source": [
    "def score( hand ):\n",
    "    # must be a 5 card hand to be valid \n",
    "    if len( hand ) == 5:\n",
    "        \n",
    "        # first, look for cards that add up to 15 \n",
    "        \n",
    "        points = 0\n",
    "        \n",
    "        # fifteens  \n",
    "        for vector_length in [ 2, 3, 4, 5 ]:\n",
    "            for vector in combinations( hand, vector_length ):\n",
    "                if sum( [ card.value for card in vector ] ) == 15:\n",
    "                    points += 2 \n",
    "                    \n",
    "        # pairs (not necessary to account for more than pairs)\n",
    "        for i, j in combinations( hand, 2 ):\n",
    "            if i.rank == j.rank:\n",
    "                points += 2 \n",
    "                \n",
    "        # runs\n",
    "        for vector_len in [ 5, 4, 3 ]:\n",
    "            for vec in combinations( hand, vector_len ):\n",
    "                vals = [ card.value for card in vec ]\n",
    "                run = [ n + min( vals ) for n in range( vector_len ) ]\n",
    "                if sorted( vals ) == run:\n",
    "                    points += vector_len\n",
    "                    break\n",
    "                break \n",
    "                      \n",
    "    return points "
   ]
  },
  {
   "cell_type": "code",
   "execution_count": 5,
   "metadata": {
    "collapsed": false
   },
   "outputs": [
    {
     "name": "stdout",
     "output_type": "stream",
     "text": [
      "2 [Ks, 10h, 10c, 6s, 4h]\n",
      "0 [9s, Kc, 10d, Ac, 2d]\n",
      "0 [Jh, 7s, 10s, As, 2h]\n",
      "4 [9h, 2c, 3c, Jd, 6d]\n",
      "4 [5h, Qh, 8s, Ah, 8d]\n"
     ]
    }
   ],
   "source": [
    "deck = Deck()\n",
    "deck.shuffle()\n",
    "for n in range( 5 ):\n",
    "    hnd = deck.draw(5)\n",
    "    print(score(hnd), hnd)"
   ]
  },
  {
   "cell_type": "code",
   "execution_count": 6,
   "metadata": {
    "collapsed": false
   },
   "outputs": [],
   "source": [
    "# # check to see if it's possible to make a score of 19 \n",
    "# for n in range( 10000 ):\n",
    "#     deck = Deck()\n",
    "#     deck.shuffle()\n",
    "#     hand = deck.draw(5)\n",
    "#     if score( hand ) == 19:\n",
    "#         print( 'Uh oh', hand ) "
   ]
  },
  {
   "cell_type": "code",
   "execution_count": 7,
   "metadata": {
    "collapsed": false
   },
   "outputs": [],
   "source": [
    "# all possible hands\n",
    "all_possible_hands = combinations( deck.cards, 5 ) "
   ]
  },
  {
   "cell_type": "code",
   "execution_count": 8,
   "metadata": {
    "collapsed": false
   },
   "outputs": [
    {
     "name": "stdout",
     "output_type": "stream",
     "text": [
      "Player 0: [Ah, 10h, 5d, Ad]\n",
      "Player 1: [4d, 10d, Qc, 6h]\n",
      "Crib (P2): [2c, As, 7s, 7h]\n",
      "Counting: [Ah, 4d, 10h, 10d, 5d, Qc, Ad, 6h]\n",
      "Final score: (4, 2)\n"
     ]
    },
    {
     "data": {
      "text/plain": [
       "(4, 2)"
      ]
     },
     "execution_count": 8,
     "metadata": {},
     "output_type": "execute_result"
    }
   ],
   "source": [
    "def play_a_hand():\n",
    "    \n",
    "    deck = Deck()\n",
    "    deck.shuffle()\n",
    "    \n",
    "    p0_hand = deck.draw(6)\n",
    "    p1_hand = deck.draw(6)\n",
    "    turn_card = deck.draw(1)\n",
    "    crib = []\n",
    "    \n",
    "    # player discard \n",
    "    crib.append( p0_hand.pop() ) \n",
    "    crib.append( p0_hand.pop() ) \n",
    "        \n",
    "    # computer discard \n",
    "    crib.append( p1_hand.pop() )\n",
    "    crib.append( p1_hand.pop() )\n",
    "        \n",
    "    #turn card and count hands \n",
    "    turn_card = deck.draw(1)\n",
    "    p0_score = score( p0_hand + turn_card ) \n",
    "    p1_score = score( p1_hand + turn_card ) \n",
    "    \n",
    "    # counting\n",
    "    plays = [] # list of tuples, format: (player, card) \n",
    "    for i in range( 4 ):\n",
    "        plays.append( p0_hand[i] )\n",
    "        plays.append( p1_hand[i] )\n",
    "    \n",
    "    #play_vector = list(p0_hand) + list(p1_hand) + crib + list(turn_card) + plays\n",
    "    #return ( p0_score, p1_score ), [ card.index for card in play_vector ]\n",
    "    \n",
    "    print('Player 0:', p0_hand)\n",
    "    print('Player 1:', p1_hand)\n",
    "    print('Crib (P2):', crib)\n",
    "    print('Counting:', plays) \n",
    "    print('Final score:', ( p0_score, p1_score )) \n",
    "    \n",
    "    return p0_score, p1_score\n",
    "\n",
    "play_a_hand()"
   ]
  },
  {
   "cell_type": "code",
   "execution_count": 9,
   "metadata": {
    "collapsed": false,
    "scrolled": false
   },
   "outputs": [
    {
     "name": "stdout",
     "output_type": "stream",
     "text": [
      ">>> Game score: [0 0]\n",
      "Player 0: [Qh, Qs, 6c, 2d]\n",
      "Player 1: [3d, 10d, 3s, Kd]\n",
      "Crib (P2): [5d, 8h, Jc, 7s]\n",
      "Counting: [Qh, 3d, Qs, 10d, 6c, 3s, 2d, Kd]\n",
      "Final score: (2, 4)\n",
      ">>> Game score: [2 4]\n",
      "Player 0: [4s, 8c, 8s, Ac]\n",
      "Player 1: [Qc, 2d, 5s, 2s]\n",
      "Crib (P2): [Qh, 4d, 8h, Qs]\n",
      "Counting: [4s, Qc, 8c, 2d, 8s, 5s, Ac, 2s]\n",
      "Final score: (6, 6)\n",
      ">>> Game score: [ 8 10]\n",
      "Player 0: [6d, 8c, Ac, 9c]\n",
      "Player 1: [6s, 3h, 3c, 3d]\n",
      "Crib (P2): [Kd, 4d, 10c, 2d]\n",
      "Counting: [6d, 6s, 8c, 3h, Ac, 3c, 9c, 3d]\n",
      "Final score: (4, 8)\n",
      ">>> Game score: [12 18]\n",
      "Player 0: [4d, 4s, 9c, 3h]\n",
      "Player 1: [5d, 2h, As, 5s]\n",
      "Crib (P2): [Qh, Jh, 10s, 10c]\n",
      "Counting: [4d, 5d, 4s, 2h, 9c, As, 3h, 5s]\n",
      "Final score: (4, 6)\n",
      ">>> Game score: [16 24]\n",
      "Player 0: [2h, Ac, 9d, 7s]\n",
      "Player 1: [Ks, Jd, Qc, Kh]\n",
      "Crib (P2): [3c, Jc, Kc, 10s]\n",
      "Counting: [2h, Ks, Ac, Jd, 9d, Qc, 7s, Kh]\n",
      "Final score: (0, 4)\n",
      ">>> Game score: [16 28]\n",
      "Player 0: [Ac, 3d, 5d, 4c]\n",
      "Player 1: [3c, Jh, 3h, 8h]\n",
      "Crib (P2): [9h, Jd, Qd, 7d]\n",
      "Counting: [Ac, 3c, 3d, Jh, 5d, 3h, 4c, 8h]\n",
      "Final score: (2, 6)\n",
      ">>> Game score: [18 34]\n",
      "Player 0: [Kc, 4s, 6s, 8c]\n",
      "Player 1: [9d, 4c, 3s, 7s]\n",
      "Crib (P2): [10c, 9s, Jc, Ks]\n",
      "Counting: [Kc, 9d, 4s, 4c, 6s, 3s, 8c, 7s]\n",
      "Final score: (0, 0)\n",
      ">>> Game score: [18 34]\n",
      "Player 0: [5c, 5d, 3s, 8s]\n",
      "Player 1: [2d, Qs, 7c, 2h]\n",
      "Crib (P2): [Kc, 6s, Qc, Kh]\n",
      "Counting: [5c, 2d, 5d, Qs, 3s, 7c, 8s, 2h]\n",
      "Final score: (4, 6)\n",
      ">>> Game score: [22 40]\n",
      "Player 0: [6c, 10s, 4h, 5c]\n",
      "Player 1: [Jc, 3s, 2s, 10h]\n",
      "Crib (P2): [3h, Kd, 9s, 6s]\n",
      "Counting: [6c, Jc, 10s, 3s, 4h, 2s, 5c, 10h]\n",
      "Final score: (4, 4)\n",
      ">>> Game score: [26 44]\n",
      "Player 0: [3c, 4s, Ks, Ac]\n",
      "Player 1: [6d, 5c, 4c, 9s]\n",
      "Crib (P2): [2h, 10d, 6s, 10c]\n",
      "Counting: [3c, 6d, 4s, 5c, Ks, 4c, Ac, 9s]\n",
      "Final score: (4, 7)\n",
      ">>> Game score: [30 51]\n",
      "Player 0: [7h, 2h, Jc, Kc]\n",
      "Player 1: [9d, Ac, 10s, Ah]\n",
      "Crib (P2): [9h, 9c, As, Ad]\n",
      "Counting: [7h, 9d, 2h, Ac, Jc, 10s, Kc, Ah]\n",
      "Final score: (2, 2)\n",
      ">>> Game score: [32 53]\n",
      "Player 0: [Qc, 3d, 8s, 3s]\n",
      "Player 1: [As, Jh, Kd, 5h]\n",
      "Crib (P2): [9c, 5s, 7h, 4c]\n",
      "Counting: [Qc, As, 3d, Jh, 8s, Kd, 3s, 5h]\n",
      "Final score: (6, 8)\n",
      ">>> Game score: [38 61]\n",
      "Player 0: [5s, 6c, 7h, 2c]\n",
      "Player 1: [3c, 4d, 3s, 9d]\n",
      "Crib (P2): [9c, Qs, 10h, 7d]\n",
      "Counting: [5s, 3c, 6c, 4d, 7h, 3s, 2c, 9d]\n",
      "Final score: (11, 6)\n",
      ">>> Game score: [49 67]\n",
      "Player 0: [6d, 5h, 7s, 7h]\n",
      "Player 1: [5s, 9d, 4d, 6s]\n",
      "Crib (P2): [3s, 9s, Kh, Kd]\n",
      "Counting: [6d, 5s, 5h, 9d, 7s, 4d, 7h, 6s]\n",
      "Final score: (7, 8)\n",
      ">>> Game score: [56 75]\n",
      "Player 0: [Qh, 4d, 8h, 4c]\n",
      "Player 1: [2d, 2s, 5s, Jc]\n",
      "Crib (P2): [6c, 6d, 4s, 3s]\n",
      "Counting: [Qh, 2d, 4d, 2s, 8h, 5s, 4c, Jc]\n",
      "Final score: (2, 6)\n",
      ">>> Game score: [58 81]\n",
      "Player 0: [6s, 5d, 9h, 4h]\n",
      "Player 1: [3h, 4c, 2c, 10c]\n",
      "Crib (P2): [10h, Jh, 10s, Ks]\n",
      "Counting: [6s, 3h, 5d, 4c, 9h, 2c, 4h, 10c]\n",
      "Final score: (6, 7)\n",
      ">>> Game score: [64 88]\n",
      "Player 0: [Qs, 3s, 8d, As]\n",
      "Player 1: [2c, 3d, 4c, Qh]\n",
      "Crib (P2): [7h, Ad, 10h, 6s]\n",
      "Counting: [Qs, 2c, 3s, 3d, 8d, 4c, As, Qh]\n",
      "Final score: (2, 7)\n",
      ">>> Game score: [66 95]\n",
      "Player 0: [10s, 6c, 3s, 5d]\n",
      "Player 1: [8d, Jd, 10d, 10h]\n",
      "Crib (P2): [4d, 9c, 7h, Ad]\n",
      "Counting: [10s, 8d, 6c, Jd, 3s, 10d, 5d, 10h]\n",
      "Final score: (2, 4)\n",
      ">>> Game score: [68 99]\n",
      "Player 0: [5h, 2c, 7d, Ah]\n",
      "Player 1: [Js, 4s, Ac, Qd]\n",
      "Crib (P2): [8d, 6s, 3d, 4c]\n",
      "Counting: [5h, Js, 2c, 4s, 7d, Ac, Ah, Qd]\n",
      "Final score: (6, 10)\n",
      ">>> Game score: [ 74 109]\n",
      "Player 0: [3d, 10s, 6c, Qh]\n",
      "Player 1: [10d, 9h, 7h, 9c]\n",
      "Crib (P2): [Ac, 7c, 9s, 8h]\n",
      "Counting: [3d, 10d, 10s, 9h, 6c, 7h, Qh, 9c]\n",
      "Final score: (0, 4)\n",
      ">>> Game score: [ 74 113]\n",
      "Player 0: [Qh, 5c, Qc, 2c]\n",
      "Player 1: [Kh, 4h, 6c, 9c]\n",
      "Crib (P2): [Js, 8d, 7h, 8c]\n",
      "Counting: [Qh, Kh, 5c, 4h, Qc, 6c, 2c, 9c]\n",
      "Final score: (6, 6)\n",
      ">>> Game score: [ 80 119]\n",
      "Player 0: [6h, 9c, Ac, 5h]\n",
      "Player 1: [5s, 8h, Jc, 3d]\n",
      "Crib (P2): [5c, 8d, Ks, As]\n",
      "Counting: [6h, 5s, 9c, 8h, Ac, Jc, 5h, 3d]\n",
      "Final score: (10, 2)\n"
     ]
    },
    {
     "data": {
      "text/plain": [
       "1"
      ]
     },
     "execution_count": 9,
     "metadata": {},
     "output_type": "execute_result"
    }
   ],
   "source": [
    "def play_a_game():\n",
    "    '''\n",
    "    Plays a game of cribbage. Returns a winner, 0 or 1\n",
    "    '''\n",
    "    sc = np.array([0,0]) \n",
    "    while True:\n",
    "        print( '>>> Game score:', sc )\n",
    "        outcome = play_a_hand()\n",
    "        sc += np.array(outcome)\n",
    "        for i, p in enumerate( sc ):\n",
    "            if p > 120:\n",
    "                return i \n",
    "        \n",
    "play_a_game()"
   ]
  },
  {
   "cell_type": "code",
   "execution_count": 10,
   "metadata": {
    "collapsed": false,
    "scrolled": false
   },
   "outputs": [],
   "source": [
    "# # play 10000 games \n",
    "\n",
    "# features = []\n",
    "# target = []\n",
    "# n_games = 10\n",
    "# for n in range( n_games ): \n",
    "#     outcome, play_vector = play_a_game()\n",
    "#     target.append( outcome ) \n",
    "#     features.append( play_vector ) \n",
    "#     sys.stdout.write(\"\\rPlaying game {} of {} games\".format( n+1, n_games ) )\n",
    "#     sys.stdout.flush()\n",
    "# sys.stdout.write(\"\\rPlayed {0}/{0} games. Done.  \".format( n_games ) )\n",
    "# sys.stdout.flush()"
   ]
  },
  {
   "cell_type": "code",
   "execution_count": 11,
   "metadata": {
    "collapsed": true
   },
   "outputs": [],
   "source": [
    "# %matplotlib inline \n",
    "# import matplotlib.pyplot as plt\n",
    "# from sklearn import preprocessing, metrics, svm, linear_model, model_selection"
   ]
  },
  {
   "cell_type": "code",
   "execution_count": 12,
   "metadata": {
    "collapsed": false
   },
   "outputs": [],
   "source": [
    "# features = np.array(features)\n",
    "# # features.shape"
   ]
  },
  {
   "cell_type": "code",
   "execution_count": 13,
   "metadata": {
    "collapsed": false
   },
   "outputs": [],
   "source": [
    "# one_hot = preprocessing.OneHotEncoder()\n",
    "# transformed = one_hot.fit_transform( features ) \n",
    "# transformed.shape"
   ]
  },
  {
   "cell_type": "code",
   "execution_count": 14,
   "metadata": {
    "collapsed": false
   },
   "outputs": [],
   "source": [
    "# for i in range( 10 ):\n",
    "#     X_train, X_test, y_train, y_test = model_selection.train_test_split(transformed, target, test_size=0.33)\n",
    "#     clf = svm.SVC(kernel='linear',probability=True)\n",
    "#     clf.fit( X_train, y_train ) \n",
    "#     pred = clf.predict( X_test ) \n",
    "#     prob = clf.predict_proba( X_test )\n",
    "#     fpr, tpr, __ = metrics.roc_curve( y_test, prob[:,0] ) \n",
    "#     plt.plot( fpr, tpr ) "
   ]
  },
  {
   "cell_type": "markdown",
   "metadata": {},
   "source": [
    "1. First, see if there's a mvove th computer can make that will win the game (i.e. make the score 31). If there is, take that move. Otherwise, go to setp 2. \n",
    "\n",
    "2. See if there's a move the player could make that would cause the computer to lose the game (i.e. play a card such that computer cannot play). If there is, block that move. \n",
    "\n",
    "3. Play a predefined good/safe card. \n",
    "\n",
    "4. Play a different predefined safe card. \n",
    "\n",
    "5. Play the only legal card. \n",
    "\n",
    "6. Say \"go\" . "
   ]
  },
  {
   "cell_type": "code",
   "execution_count": 16,
   "metadata": {
    "collapsed": false,
    "scrolled": false
   },
   "outputs": [
    {
     "name": "stdout",
     "output_type": "stream",
     "text": [
      "Count is 0\n",
      "Score is (0, 0)\n",
      "Jh was played by player 0\n",
      "Count is 10\n",
      "Score is (0, 0)\n",
      "Choose one of {1: Qs, 2: 8c, 3: 2h, 4: 5c}1\n",
      "Qs was played by player 1\n",
      "Count is 20\n",
      "Score is (0, 0)\n",
      "2s was played by player 0\n",
      "Count is 22\n",
      "Score is (0, 0)\n",
      "Choose one of {1: 8c, 2: 2h, 3: 5c}1\n",
      "8c was played by player 1\n",
      "Count is 30\n",
      "Score is (0, 0)\n",
      "Go --- player 0\n",
      "Plays to 31: [Jh, Qs, 2s, 8c]\n",
      "Count is 0\n",
      "Score is (0, 1)\n",
      "Kh was played by player 0\n",
      "Count is 10\n",
      "Score is (0, 1)\n",
      "Choose one of {1: 2h, 2: 5c}2\n",
      "5c was played by player 1\n",
      "Count is 15\n",
      "Score is (0, 3)\n",
      "4c was played by player 0\n",
      "Count is 19\n",
      "Score is (0, 3)\n",
      "Choose one of {1: 2h}1\n",
      "2h was played by player 1\n",
      "Count is 21\n",
      "Score is (0, 3)\n",
      "Plays to 31: [Jh, Qs, 2s, 8c, Kh, 5c, 4c, 2h]\n"
     ]
    }
   ],
   "source": [
    "def game():\n",
    "    \n",
    "    # game functions \n",
    "    \n",
    "    # universal play function \n",
    "    def play( card ):\n",
    "        nonlocal count, turn, hands\n",
    "        plays.append( card ) \n",
    "        count += card.value\n",
    "        hands[turn] = [ n for n in hands[turn] if n != card ]         \n",
    "        print( card, 'was played by player', turn ) \n",
    "        return count, hands \n",
    "\n",
    "    # human choosing function \n",
    "    def ask_for_input():\n",
    "        nonlocal hands\n",
    "        d = dict(enumerate(hands[1],1))\n",
    "        inp = input( 'Choose one of {}'.format( d ) )\n",
    "        card = d[ int(inp) ]\n",
    "        return card \n",
    "\n",
    "    # AI choosing function \n",
    "    def ai_figure_out_which_card_to_play():\n",
    "        nonlocal hands, count, score, turn     \n",
    "        choices = hands[0] # list of 4 choices \n",
    "        return choices[0]\n",
    "        \n",
    "    #\n",
    "    def say_go():\n",
    "        nonlocal score \n",
    "        pass \n",
    "    \n",
    "    def validate_play( card, count ):\n",
    "        if card.value + count < 32:\n",
    "            return True \n",
    "        else:\n",
    "            return False \n",
    "    \n",
    "    # game logic         \n",
    "    deck = Deck()\n",
    "    deck.shuffle()        \n",
    "    hands = [deck.draw(4), deck.draw(4)]\n",
    "    turn = np.random.randint(2) # either 0 or 1 \n",
    "    count = 0\n",
    "    plays = []\n",
    "    score = np.array([0,0]) # get a player's score like score[player_number] \n",
    "\n",
    "    while all(hands):\n",
    "        game_on = True\n",
    "        while game_on: # we are counting toward 31 \n",
    "            print( 'Count is {}'.format( count ) ) \n",
    "            print( 'Score is {}'.format(tuple(score)) ) \n",
    "\n",
    "            # first, does whomever's turn it is even have cards? \n",
    "            if not hands[turn]:\n",
    "                break # out of while game_on \n",
    "            # first, is whoever's turn it is even have a legal move\n",
    "            # or do they have to say \"go\"? \n",
    "            if all([count+card.value>31 for card in hands[turn]]):\n",
    "                # they have to say \"go\" \n",
    "                # other person gets 1 point \n",
    "                score[turn^1] += 1 \n",
    "                print( \"Go --- player\", turn ) \n",
    "                break # out of \"while game_on\" \n",
    "\n",
    "            # player's turn \n",
    "            if turn == 1:\n",
    "                done = False\n",
    "                while not done: \n",
    "                    card = ask_for_input()\n",
    "                    done = validate_play(card, count)\n",
    "                play(card) \n",
    "\n",
    "            # ai turn \n",
    "            else:\n",
    "                done = False\n",
    "                while not done: \n",
    "                    card = ai_figure_out_which_card_to_play()\n",
    "                    done = validate_play(card, count)\n",
    "                play(card) \n",
    "\n",
    "            # score and set up for next iteration \n",
    "            # current player is \n",
    "            if count == 31:\n",
    "                # we are done, son \n",
    "                score[ turn ] += 2 # 31 for 2 \n",
    "                break \n",
    "            if count == 15:\n",
    "                score[ turn ] += 2 # 15 for 2 \n",
    "\n",
    "            # swap turn     \n",
    "            turn ^= 1 # swap turn \n",
    "\n",
    "        # anything you want to happen after we stop couting to 31 \n",
    "        print( \"Plays to 31:\", plays ) \n",
    "        count = 0 \n",
    "#         if all(hands):\n",
    "#             game_on = True \n",
    "#         else: \n",
    "#             game_on = False \n",
    "    # anything you want to happen after we stop the game!  \n",
    "\n",
    "game()"
   ]
  },
  {
   "cell_type": "code",
   "execution_count": null,
   "metadata": {
    "collapsed": true
   },
   "outputs": [],
   "source": []
  },
  {
   "cell_type": "code",
   "execution_count": null,
   "metadata": {
    "collapsed": true
   },
   "outputs": [],
   "source": []
  }
 ],
 "metadata": {
  "kernelspec": {
   "display_name": "Python [conda root]",
   "language": "python",
   "name": "conda-root-py"
  },
  "language_info": {
   "codemirror_mode": {
    "name": "ipython",
    "version": 3
   },
   "file_extension": ".py",
   "mimetype": "text/x-python",
   "name": "python",
   "nbconvert_exporter": "python",
   "pygments_lexer": "ipython3",
   "version": "3.5.2"
  }
 },
 "nbformat": 4,
 "nbformat_minor": 2
}
