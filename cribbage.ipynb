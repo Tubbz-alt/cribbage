{
 "cells": [
  {
   "cell_type": "code",
   "execution_count": 1,
   "metadata": {
    "collapsed": true
   },
   "outputs": [],
   "source": [
    "from itertools import combinations \n",
    "from random import shuffle \n",
    "import numpy as np \n",
    "import sys "
   ]
  },
  {
   "cell_type": "code",
   "execution_count": 2,
   "metadata": {
    "collapsed": false
   },
   "outputs": [],
   "source": [
    "# general stuff that will work for any card game \n",
    "\n",
    "class Card:\n",
    "    \n",
    "    def __repr__( self ):\n",
    "        return '{}{}'.format( self.display_rank, self.display_suit )\n",
    "    \n",
    "    def __init__( self, suit, rank ):\n",
    "        display_suits = [ 's', 'h', 'c', 'd' ]\n",
    "        display_ranks = [ 'A', 2, 3, 4, 5, 6, 7, 8, 9, 10, 'J', 'Q', 'K' ]\n",
    "        vals = [ 1, 2, 3, 4, 5, 6, 7, 8, 9, 10, 10, 10, 10 ]\n",
    "        map_suits = dict(zip(range(4),display_suits))\n",
    "        map_ranks = dict(zip(range(13),display_ranks))\n",
    "        map_vals = dict(zip(range(13),vals))\n",
    "\n",
    "        self.suit = suit\n",
    "        self.rank = rank \n",
    "        self.index = (13*self.suit)+self.rank\n",
    "        self.display_rank = map_ranks[ self.rank ]\n",
    "        self.display_suit = map_suits[ self.suit ]\n",
    "        self.value = map_vals[ self.rank ]\n",
    "        \n",
    "class Deck:\n",
    "    def __init__( self ):\n",
    "        self.cards = []\n",
    "        for s in range( 4 ):\n",
    "            for r in range( 13 ):\n",
    "                self.cards.append(Card(s, r))\n",
    "                \n",
    "    def shuffle( self ):\n",
    "        shuffle( self.cards )\n",
    "        \n",
    "    def draw( self, n ):\n",
    "        result = []\n",
    "        for i in range( n or 1 ):\n",
    "            result.append( self.cards.pop() ) \n",
    "        return result "
   ]
  },
  {
   "cell_type": "code",
   "execution_count": null,
   "metadata": {
    "collapsed": true
   },
   "outputs": [],
   "source": []
  },
  {
   "cell_type": "code",
   "execution_count": 3,
   "metadata": {
    "collapsed": false
   },
   "outputs": [],
   "source": [
    "def score( hand ):\n",
    "    # must be a 5 card hand to be valid \n",
    "    if len( hand ) == 5:\n",
    "        \n",
    "        # first, look for cards that add up to 15 \n",
    "        \n",
    "        points = 0\n",
    "        \n",
    "        # fifteens  \n",
    "        for vector_length in [ 2, 3, 4, 5 ]:\n",
    "            for vector in combinations( hand, vector_length ):\n",
    "                if sum( [ card.value for card in vector ] ) == 15:\n",
    "                    points += 2 \n",
    "                    \n",
    "        # pairs (not necessary to account for more than pairs)\n",
    "        for i, j in combinations( hand, 2 ):\n",
    "            if i.rank == j.rank:\n",
    "                points += 2 \n",
    "                \n",
    "        # runs\n",
    "        for vector_len in [ 5, 4, 3 ]:\n",
    "            for vec in combinations( hand, vector_len ):\n",
    "                vals = [ card.value for card in vec ]\n",
    "                run = [ n + min( vals ) for n in range( vector_len ) ]\n",
    "                if sorted( vals ) == run:\n",
    "                    points += vector_len\n",
    "                    break\n",
    "                break \n",
    "                      \n",
    "    return points "
   ]
  },
  {
   "cell_type": "code",
   "execution_count": 4,
   "metadata": {
    "collapsed": false
   },
   "outputs": [
    {
     "name": "stdout",
     "output_type": "stream",
     "text": [
      "0 [8h, 2d, Jh, Qs, 10c]\n",
      "0 [Ah, 6d, 3s, Qd, 7h]\n",
      "6 [6c, Ks, 5s, Kd, 3d]\n",
      "6 [Qh, 2c, 5c, As, 5h]\n",
      "2 [10s, 9s, Js, 7d, 7s]\n"
     ]
    }
   ],
   "source": [
    "deck = Deck()\n",
    "deck.shuffle()\n",
    "for n in range( 5 ):\n",
    "    hnd = deck.draw(5)\n",
    "    print(score(hnd), hnd)"
   ]
  },
  {
   "cell_type": "code",
   "execution_count": 5,
   "metadata": {
    "collapsed": false
   },
   "outputs": [],
   "source": [
    "# # check to see if it's possible to make a score of 19 \n",
    "# for n in range( 10000 ):\n",
    "#     deck = Deck()\n",
    "#     deck.shuffle()\n",
    "#     hand = deck.draw(5)\n",
    "#     if score( hand ) == 19:\n",
    "#         print( 'Uh oh', hand ) "
   ]
  },
  {
   "cell_type": "code",
   "execution_count": 6,
   "metadata": {
    "collapsed": false
   },
   "outputs": [],
   "source": [
    "# all possible hands\n",
    "all_possible_hands = combinations( deck.cards, 5 ) "
   ]
  },
  {
   "cell_type": "code",
   "execution_count": 7,
   "metadata": {
    "collapsed": false
   },
   "outputs": [],
   "source": [
    "def play_a_hand():\n",
    "    \n",
    "    deck = Deck()\n",
    "    deck.shuffle()\n",
    "    \n",
    "    p0_hand = deck.draw(6)\n",
    "    p1_hand = deck.draw(6)\n",
    "    turn_card = deck.draw(1)\n",
    "    crib = []\n",
    "    \n",
    "    # player discard \n",
    "    crib.append( p0_hand.pop() ) \n",
    "    crib.append( p0_hand.pop() ) \n",
    "        \n",
    "    # computer discard \n",
    "    crib.append( p1_hand.pop() )\n",
    "    crib.append( p1_hand.pop() )\n",
    "        \n",
    "    #turn card and count hands \n",
    "    turn_card = deck.draw(1)\n",
    "    p0_score = score( p0_hand + turn_card ) \n",
    "    p1_score = score( p1_hand + turn_card ) \n",
    "    \n",
    "    # counting\n",
    "    plays = [] # list of tuples, format: (player, card) \n",
    "    for i in range( 4 ):\n",
    "        plays.append( p0_hand[i] )\n",
    "        plays.append( p1_hand[i] )\n",
    "    \n",
    "#     print( 'Player hand:', p0_hand ) \n",
    "#     print( 'Pone hand:', p1_hand ) \n",
    "#     print( 'Crib:', crib ) \n",
    "#     print( 'Turn:', turn_card ) \n",
    "    \n",
    "    play_vector = list(p0_hand) + list(p1_hand) + crib + list(turn_card) + plays\n",
    "    return ( p0_score, p1_score ), [ card.index for card in play_vector ]"
   ]
  },
  {
   "cell_type": "code",
   "execution_count": 8,
   "metadata": {
    "collapsed": false
   },
   "outputs": [
    {
     "name": "stdout",
     "output_type": "stream",
     "text": [
      "Score: ((8, 6), [30, 24, 38, 50, 43, 45, 17, 28, 9, 14, 29, 46, 31, 30, 43, 24, 45, 38, 17, 50, 28])\n"
     ]
    }
   ],
   "source": [
    "print( 'Score:', play_a_hand() ) "
   ]
  },
  {
   "cell_type": "code",
   "execution_count": 9,
   "metadata": {
    "collapsed": false
   },
   "outputs": [],
   "source": [
    "def play_a_game():\n",
    "    '''\n",
    "    Plays a game of cribbage. Returns a winner, 0 or 1\n",
    "    '''\n",
    "    sc = np.array([0,0]) \n",
    "    while True:\n",
    "        outcome, play_vector = play_a_hand()\n",
    "        sc += np.array(outcome)\n",
    "#         print( 'Score:', sc )\n",
    "        for i, p in enumerate( sc ):\n",
    "            if p > 120:\n",
    "                return (i, play_vector) # winner ID "
   ]
  },
  {
   "cell_type": "code",
   "execution_count": 10,
   "metadata": {
    "collapsed": false,
    "scrolled": false
   },
   "outputs": [
    {
     "name": "stdout",
     "output_type": "stream",
     "text": [
      "Played 10/10 games. Done.  "
     ]
    }
   ],
   "source": [
    "# play 10000 games \n",
    "\n",
    "features = []\n",
    "target = []\n",
    "n_games = 10\n",
    "for n in range( n_games ): \n",
    "    outcome, play_vector = play_a_game()\n",
    "    target.append( outcome ) \n",
    "    features.append( play_vector ) \n",
    "    sys.stdout.write(\"\\rPlaying game {} of {} games\".format( n+1, n_games ) )\n",
    "    sys.stdout.flush()\n",
    "sys.stdout.write(\"\\rPlayed {0}/{0} games. Done.  \".format( n_games ) )\n",
    "sys.stdout.flush()"
   ]
  },
  {
   "cell_type": "code",
   "execution_count": 11,
   "metadata": {
    "collapsed": true
   },
   "outputs": [],
   "source": [
    "%matplotlib inline \n",
    "import matplotlib.pyplot as plt\n",
    "from sklearn import preprocessing, metrics, svm, linear_model, model_selection"
   ]
  },
  {
   "cell_type": "code",
   "execution_count": 12,
   "metadata": {
    "collapsed": false
   },
   "outputs": [
    {
     "data": {
      "text/plain": [
       "(10, 21)"
      ]
     },
     "execution_count": 12,
     "metadata": {},
     "output_type": "execute_result"
    }
   ],
   "source": [
    "features = np.array(features)\n",
    "features.shape"
   ]
  },
  {
   "cell_type": "code",
   "execution_count": 13,
   "metadata": {
    "collapsed": false
   },
   "outputs": [
    {
     "data": {
      "text/plain": [
       "(10, 189)"
      ]
     },
     "execution_count": 13,
     "metadata": {},
     "output_type": "execute_result"
    }
   ],
   "source": [
    "one_hot = preprocessing.OneHotEncoder()\n",
    "transformed = one_hot.fit_transform( features ) \n",
    "transformed.shape"
   ]
  },
  {
   "cell_type": "code",
   "execution_count": 14,
   "metadata": {
    "collapsed": false
   },
   "outputs": [
    {
     "data": {
      "image/png": "[encoded data removed]",
      "text/plain": [
       "<matplotlib.figure.Figure at 0x10d527c88>"
      ]
     },
     "metadata": {},
     "output_type": "display_data"
    }
   ],
   "source": [
    "for i in range( 10 ):\n",
    "    X_train, X_test, y_train, y_test = model_selection.train_test_split(transformed, target, test_size=0.33)\n",
    "    clf = svm.SVC(kernel='linear',probability=True)\n",
    "    clf.fit( X_train, y_train ) \n",
    "    pred = clf.predict( X_test ) \n",
    "    prob = clf.predict_proba( X_test )\n",
    "    fpr, tpr, __ = metrics.roc_curve( y_test, prob[:,0] ) \n",
    "    plt.plot( fpr, tpr ) "
   ]
  },
  {
   "cell_type": "code",
   "execution_count": null,
   "metadata": {
    "collapsed": true
   },
   "outputs": [],
   "source": []
  },
  {
   "cell_type": "markdown",
   "metadata": {},
   "source": [
    "1. First, see if there's a mvove th computer can make that will win the game (i.e. make the score 31). If there is, take that move. Otherwise, go to setp 2. \n",
    "\n",
    "2. See if there's a move the player could make that would cause the computer to lose the game (i.e. play a card such that computer cannot play). If there is, block that move. \n",
    "\n",
    "3. Play a predefined good/safe card. \n",
    "\n",
    "4. Play a different predefined safe card. \n",
    "\n",
    "5. Play the only legal card. \n",
    "\n",
    "6. Say \"go\" . "
   ]
  },
  {
   "cell_type": "code",
   "execution_count": 35,
   "metadata": {
    "collapsed": false
   },
   "outputs": [
    {
     "name": "stdout",
     "output_type": "stream",
     "text": [
      "Choose one of {1: Ad, 2: 10h, 3: 9d, 4: 2h}1\n",
      "Count is 1\n",
      "Choose one of {1: Ad, 2: 10h, 3: 9d, 4: 2h}2\n",
      "Count is 11\n",
      "Choose one of {1: Ad, 2: 10h, 3: 9d, 4: 2h}3\n",
      "Count is 20\n",
      "Choose one of {1: Ad, 2: 10h, 3: 9d, 4: 2h}2\n",
      "Count is 30\n",
      "Choose one of {1: Ad, 2: 10h, 3: 9d, 4: 2h}1\n",
      "Count is 31\n"
     ]
    },
    {
     "ename": "KeyboardInterrupt",
     "evalue": "",
     "output_type": "error",
     "traceback": [
      "\u001b[0;31m---------------------------------------------------------------------------\u001b[0m",
      "\u001b[0;31mKeyboardInterrupt\u001b[0m                         Traceback (most recent call last)",
      "\u001b[0;32m/usr/local/bin/anaconda3/lib/python3.5/site-packages/ipykernel/kernelbase.py\u001b[0m in \u001b[0;36m_input_request\u001b[0;34m(self, prompt, ident, parent, password)\u001b[0m\n\u001b[1;32m    718\u001b[0m             \u001b[0;32mtry\u001b[0m\u001b[0;34m:\u001b[0m\u001b[0;34m\u001b[0m\u001b[0m\n\u001b[0;32m--> 719\u001b[0;31m                 \u001b[0mident\u001b[0m\u001b[0;34m,\u001b[0m \u001b[0mreply\u001b[0m \u001b[0;34m=\u001b[0m \u001b[0mself\u001b[0m\u001b[0;34m.\u001b[0m\u001b[0msession\u001b[0m\u001b[0;34m.\u001b[0m\u001b[0mrecv\u001b[0m\u001b[0;34m(\u001b[0m\u001b[0mself\u001b[0m\u001b[0;34m.\u001b[0m\u001b[0mstdin_socket\u001b[0m\u001b[0;34m,\u001b[0m \u001b[0;36m0\u001b[0m\u001b[0;34m)\u001b[0m\u001b[0;34m\u001b[0m\u001b[0m\n\u001b[0m\u001b[1;32m    720\u001b[0m             \u001b[0;32mexcept\u001b[0m \u001b[0mException\u001b[0m\u001b[0;34m:\u001b[0m\u001b[0;34m\u001b[0m\u001b[0m\n",
      "\u001b[0;32m/usr/local/bin/anaconda3/lib/python3.5/site-packages/jupyter_client/session.py\u001b[0m in \u001b[0;36mrecv\u001b[0;34m(self, socket, mode, content, copy)\u001b[0m\n\u001b[1;32m    738\u001b[0m         \u001b[0;32mtry\u001b[0m\u001b[0;34m:\u001b[0m\u001b[0;34m\u001b[0m\u001b[0m\n\u001b[0;32m--> 739\u001b[0;31m             \u001b[0mmsg_list\u001b[0m \u001b[0;34m=\u001b[0m \u001b[0msocket\u001b[0m\u001b[0;34m.\u001b[0m\u001b[0mrecv_multipart\u001b[0m\u001b[0;34m(\u001b[0m\u001b[0mmode\u001b[0m\u001b[0;34m,\u001b[0m \u001b[0mcopy\u001b[0m\u001b[0;34m=\u001b[0m\u001b[0mcopy\u001b[0m\u001b[0;34m)\u001b[0m\u001b[0;34m\u001b[0m\u001b[0m\n\u001b[0m\u001b[1;32m    740\u001b[0m         \u001b[0;32mexcept\u001b[0m \u001b[0mzmq\u001b[0m\u001b[0;34m.\u001b[0m\u001b[0mZMQError\u001b[0m \u001b[0;32mas\u001b[0m \u001b[0me\u001b[0m\u001b[0;34m:\u001b[0m\u001b[0;34m\u001b[0m\u001b[0m\n",
      "\u001b[0;32m/usr/local/bin/anaconda3/lib/python3.5/site-packages/zmq/sugar/socket.py\u001b[0m in \u001b[0;36mrecv_multipart\u001b[0;34m(self, flags, copy, track)\u001b[0m\n\u001b[1;32m    394\u001b[0m         \"\"\"\n\u001b[0;32m--> 395\u001b[0;31m         \u001b[0mparts\u001b[0m \u001b[0;34m=\u001b[0m \u001b[0;34m[\u001b[0m\u001b[0mself\u001b[0m\u001b[0;34m.\u001b[0m\u001b[0mrecv\u001b[0m\u001b[0;34m(\u001b[0m\u001b[0mflags\u001b[0m\u001b[0;34m,\u001b[0m \u001b[0mcopy\u001b[0m\u001b[0;34m=\u001b[0m\u001b[0mcopy\u001b[0m\u001b[0;34m,\u001b[0m \u001b[0mtrack\u001b[0m\u001b[0;34m=\u001b[0m\u001b[0mtrack\u001b[0m\u001b[0;34m)\u001b[0m\u001b[0;34m]\u001b[0m\u001b[0;34m\u001b[0m\u001b[0m\n\u001b[0m\u001b[1;32m    396\u001b[0m         \u001b[0;31m# have first part already, only loop while more to receive\u001b[0m\u001b[0;34m\u001b[0m\u001b[0;34m\u001b[0m\u001b[0m\n",
      "\u001b[0;32mzmq/backend/cython/socket.pyx\u001b[0m in \u001b[0;36mzmq.backend.cython.socket.Socket.recv (zmq/backend/cython/socket.c:7683)\u001b[0;34m()\u001b[0m\n",
      "\u001b[0;32mzmq/backend/cython/socket.pyx\u001b[0m in \u001b[0;36mzmq.backend.cython.socket.Socket.recv (zmq/backend/cython/socket.c:7460)\u001b[0;34m()\u001b[0m\n",
      "\u001b[0;32mzmq/backend/cython/socket.pyx\u001b[0m in \u001b[0;36mzmq.backend.cython.socket._recv_copy (zmq/backend/cython/socket.c:2344)\u001b[0;34m()\u001b[0m\n",
      "\u001b[0;32m/usr/local/bin/anaconda3/lib/python3.5/site-packages/zmq/backend/cython/checkrc.pxd\u001b[0m in \u001b[0;36mzmq.backend.cython.checkrc._check_rc (zmq/backend/cython/socket.c:9621)\u001b[0;34m()\u001b[0m\n",
      "\u001b[0;31mKeyboardInterrupt\u001b[0m: ",
      "\nDuring handling of the above exception, another exception occurred:\n",
      "\u001b[0;31mKeyboardInterrupt\u001b[0m                         Traceback (most recent call last)",
      "\u001b[0;32m<ipython-input-35-d0c302bad677>\u001b[0m in \u001b[0;36m<module>\u001b[0;34m()\u001b[0m\n\u001b[1;32m     44\u001b[0m \u001b[0;34m\u001b[0m\u001b[0m\n\u001b[1;32m     45\u001b[0m \u001b[0;34m\u001b[0m\u001b[0m\n\u001b[0;32m---> 46\u001b[0;31m \u001b[0mgame\u001b[0m\u001b[0;34m(\u001b[0m\u001b[0;34m)\u001b[0m\u001b[0;34m\u001b[0m\u001b[0m\n\u001b[0m",
      "\u001b[0;32m<ipython-input-35-d0c302bad677>\u001b[0m in \u001b[0;36mgame\u001b[0;34m()\u001b[0m\n\u001b[1;32m     27\u001b[0m \u001b[0;34m\u001b[0m\u001b[0m\n\u001b[1;32m     28\u001b[0m                 \u001b[0md\u001b[0m \u001b[0;34m=\u001b[0m \u001b[0mdict\u001b[0m\u001b[0;34m(\u001b[0m\u001b[0menumerate\u001b[0m\u001b[0;34m(\u001b[0m\u001b[0mplayer_hand\u001b[0m\u001b[0;34m,\u001b[0m\u001b[0;36m1\u001b[0m\u001b[0;34m)\u001b[0m\u001b[0;34m)\u001b[0m\u001b[0;34m\u001b[0m\u001b[0m\n\u001b[0;32m---> 29\u001b[0;31m                 \u001b[0minp\u001b[0m \u001b[0;34m=\u001b[0m \u001b[0minput\u001b[0m\u001b[0;34m(\u001b[0m \u001b[0;34m'Choose one of {}'\u001b[0m\u001b[0;34m.\u001b[0m\u001b[0mformat\u001b[0m\u001b[0;34m(\u001b[0m \u001b[0md\u001b[0m \u001b[0;34m)\u001b[0m \u001b[0;34m)\u001b[0m\u001b[0;34m\u001b[0m\u001b[0m\n\u001b[0m\u001b[1;32m     30\u001b[0m                 \u001b[0mplay\u001b[0m\u001b[0;34m(\u001b[0m \u001b[0md\u001b[0m\u001b[0;34m[\u001b[0m \u001b[0mint\u001b[0m\u001b[0;34m(\u001b[0m\u001b[0minp\u001b[0m\u001b[0;34m)\u001b[0m \u001b[0;34m]\u001b[0m \u001b[0;34m)\u001b[0m\u001b[0;34m\u001b[0m\u001b[0m\n\u001b[1;32m     31\u001b[0m \u001b[0;34m\u001b[0m\u001b[0m\n",
      "\u001b[0;32m/usr/local/bin/anaconda3/lib/python3.5/site-packages/ipykernel/kernelbase.py\u001b[0m in \u001b[0;36mraw_input\u001b[0;34m(self, prompt)\u001b[0m\n\u001b[1;32m    692\u001b[0m             \u001b[0mself\u001b[0m\u001b[0;34m.\u001b[0m\u001b[0m_parent_ident\u001b[0m\u001b[0;34m,\u001b[0m\u001b[0;34m\u001b[0m\u001b[0m\n\u001b[1;32m    693\u001b[0m             \u001b[0mself\u001b[0m\u001b[0;34m.\u001b[0m\u001b[0m_parent_header\u001b[0m\u001b[0;34m,\u001b[0m\u001b[0;34m\u001b[0m\u001b[0m\n\u001b[0;32m--> 694\u001b[0;31m             \u001b[0mpassword\u001b[0m\u001b[0;34m=\u001b[0m\u001b[0;32mFalse\u001b[0m\u001b[0;34m,\u001b[0m\u001b[0;34m\u001b[0m\u001b[0m\n\u001b[0m\u001b[1;32m    695\u001b[0m         )\n\u001b[1;32m    696\u001b[0m \u001b[0;34m\u001b[0m\u001b[0m\n",
      "\u001b[0;32m/usr/local/bin/anaconda3/lib/python3.5/site-packages/ipykernel/kernelbase.py\u001b[0m in \u001b[0;36m_input_request\u001b[0;34m(self, prompt, ident, parent, password)\u001b[0m\n\u001b[1;32m    722\u001b[0m             \u001b[0;32mexcept\u001b[0m \u001b[0mKeyboardInterrupt\u001b[0m\u001b[0;34m:\u001b[0m\u001b[0;34m\u001b[0m\u001b[0m\n\u001b[1;32m    723\u001b[0m                 \u001b[0;31m# re-raise KeyboardInterrupt, to truncate traceback\u001b[0m\u001b[0;34m\u001b[0m\u001b[0;34m\u001b[0m\u001b[0m\n\u001b[0;32m--> 724\u001b[0;31m                 \u001b[0;32mraise\u001b[0m \u001b[0mKeyboardInterrupt\u001b[0m\u001b[0;34m\u001b[0m\u001b[0m\n\u001b[0m\u001b[1;32m    725\u001b[0m             \u001b[0;32melse\u001b[0m\u001b[0;34m:\u001b[0m\u001b[0;34m\u001b[0m\u001b[0m\n\u001b[1;32m    726\u001b[0m                 \u001b[0;32mbreak\u001b[0m\u001b[0;34m\u001b[0m\u001b[0m\n",
      "\u001b[0;31mKeyboardInterrupt\u001b[0m: "
     ]
    }
   ],
   "source": [
    "def game():\n",
    "    \n",
    "    while True:\n",
    "        \n",
    "        deck = Deck()\n",
    "        deck.shuffle()\n",
    "        \n",
    "        player_hand = deck.draw(4)\n",
    "        ai_hand = deck.draw(4)\n",
    "        \n",
    "        game_on = True\n",
    "        turn = np.random.choice([ 'player', '' ])\n",
    "        \n",
    "        count = 0\n",
    "        plays = []\n",
    "        \n",
    "        def play( card ):\n",
    "            nonlocal count \n",
    "            plays.append( card )\n",
    "            count += card.value\n",
    "        \n",
    "        while game_on:\n",
    "            if turn == 'player':\n",
    "                # do player things \n",
    "                # like a player do \n",
    "                \n",
    "\n",
    "                d = dict(enumerate(player_hand,1))\n",
    "                inp = input( 'Choose one of {}'.format( d ) )\n",
    "                play( d[ int(inp) ] )\n",
    "                \n",
    "                \n",
    "            else:\n",
    "                for c in ai_hand:\n",
    "                    if count + c.value == 31:\n",
    "                        play( c ) \n",
    "                for c in ai_hand:\n",
    "                    play(c)\n",
    "\n",
    "            print( 'Count is {}'.format( count ) ) \n",
    "    \n",
    "        print( plays ) \n",
    "        break\n",
    "    \n",
    "    \n",
    "game()"
   ]
  },
  {
   "cell_type": "code",
   "execution_count": null,
   "metadata": {
    "collapsed": true
   },
   "outputs": [],
   "source": []
  },
  {
   "cell_type": "code",
   "execution_count": null,
   "metadata": {
    "collapsed": true
   },
   "outputs": [],
   "source": []
  }
 ],
 "metadata": {
  "kernelspec": {
   "display_name": "Python [conda root]",
   "language": "python",
   "name": "conda-root-py"
  },
  "language_info": {
   "codemirror_mode": {
    "name": "ipython",
    "version": 3
   },
   "file_extension": ".py",
   "mimetype": "text/x-python",
   "name": "python",
   "nbconvert_exporter": "python",
   "pygments_lexer": "ipython3",
   "version": "3.5.2"
  }
 },
 "nbformat": 4,
 "nbformat_minor": 2
}
