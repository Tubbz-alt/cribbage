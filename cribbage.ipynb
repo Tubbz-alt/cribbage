{
 "cells": [
  {
   "cell_type": "code",
   "execution_count": 1,
   "metadata": {
    "collapsed": true,
    "slideshow": {
     "slide_type": "slide"
    }
   },
   "outputs": [],
   "source": [
    "from itertools import combinations \n",
    "from random import shuffle \n",
    "import numpy as np \n",
    "import sys"
   ]
  },
  {
   "cell_type": "code",
   "execution_count": 2,
   "metadata": {
    "collapsed": false
   },
   "outputs": [],
   "source": [
    "# general stuff that will work for any card game \n",
    "# cards and deck \n",
    "##############################################################\n",
    "\n",
    "display_suits = [ 's', 'h', 'c', 'd' ]\n",
    "icon_suits =    [ '♠', '♡', '♣', '♢' ] \n",
    "display_ranks = [ 'A', 2, 3, 4, 5, 6, 7, 8, 9, 10, 'J', 'Q', 'K' ]\n",
    "vals =          [  1 , 2, 3, 4, 5, 6, 7, 8, 9, 10,  10,  10,  10 ]\n",
    "map_suits = dict(zip(range(4),display_suits))\n",
    "map_ranks = dict(zip(range(13),display_ranks))\n",
    "map_icons = dict(zip(range(4),icon_suits))\n",
    "map_vals = dict(zip(range(13),vals))\n",
    "\n",
    "class Card:\n",
    "    \n",
    "    def __repr__( self ):\n",
    "        return '{}{}'.format( self.display_rank, self.display_suit )\n",
    "    \n",
    "    # as card symbols \n",
    "    def __repr__(self):\n",
    "        return '{}{}'.format(self.display_rank, self.icon_suit) \n",
    "    \n",
    "    def __init__( self, suit, rank ):\n",
    "        self.suit = suit\n",
    "        self.rank = rank \n",
    "        self.index = (13*self.suit)+self.rank\n",
    "        self.display_rank = map_ranks[ self.rank ]\n",
    "        self.display_suit = map_suits[ self.suit ]\n",
    "        self.icon_suit = map_icons[ self.suit ] \n",
    "        self.value = map_vals[ self.rank ]\n",
    "        \n",
    "class Deck:\n",
    "    def __init__( self ):\n",
    "        self.cards = []\n",
    "        for s in range( 4 ):\n",
    "            for r in range( 13 ):\n",
    "                self.cards.append(Card(s, r))\n",
    "                \n",
    "    def shuffle( self ):\n",
    "        shuffle( self.cards )\n",
    "        \n",
    "    def draw( self, n=1 ):\n",
    "        result = []\n",
    "        for i in range( n or 1 ):\n",
    "            result.append( self.cards.pop() ) \n",
    "        return result "
   ]
  },
  {
   "cell_type": "code",
   "execution_count": 3,
   "metadata": {
    "collapsed": false
   },
   "outputs": [
    {
     "data": {
      "text/plain": [
       "[2♣]"
      ]
     },
     "execution_count": 3,
     "metadata": {},
     "output_type": "execute_result"
    }
   ],
   "source": [
    "deck = Deck()\n",
    "deck.shuffle()\n",
    "deck.draw()"
   ]
  },
  {
   "cell_type": "code",
   "execution_count": 4,
   "metadata": {
    "collapsed": false
   },
   "outputs": [
    {
     "data": {
      "text/plain": [
       "[10♣]"
      ]
     },
     "execution_count": 4,
     "metadata": {},
     "output_type": "execute_result"
    }
   ],
   "source": [
    "deck.draw()"
   ]
  },
  {
   "cell_type": "code",
   "execution_count": 5,
   "metadata": {
    "collapsed": false
   },
   "outputs": [],
   "source": [
    "# players \n",
    "#######################################################\n",
    "\n",
    "class Player():\n",
    "    def __init__( self, name='' ): \n",
    "        self.name = name \n",
    "        self.hand = []\n",
    "        self.score = 0\n",
    "\n",
    "    def clean( self ):\n",
    "        self.hand = []\n",
    "        self.score = 0 \n",
    "        \n",
    "    def peg( self, points ):\n",
    "        self.score += points \n",
    "        # note: works to decrement as well \n",
    "        # player.peg(-2) #for muggins or something \n",
    "    \n",
    "    @property \n",
    "    def sorted_hand(self):\n",
    "        return sorted(self.hand, key=lambda c: c.value)\n",
    "            \n",
    "class HumanPlayer(Player):\n",
    "    def ask_for_input( self, hand ):\n",
    "        d = dict(enumerate(hand,1))\n",
    "        discard_prompt = 'Your hand: ' + ' '.join([str(x) for x in d.values()]) + '\\nChoose a card to play: '\n",
    "        inp = input( discard_prompt )\n",
    "        card = d[ int(inp) ]\n",
    "        return card \n",
    "    \n",
    "    def ask_for_discards( self ):\n",
    "        d = dict(enumerate(self.sorted_hand,1))\n",
    "        discard_prompt = 'Your hand: {} {} {} {} {} {}\\nChoose two cards (numbered 1-6) for the crib: '.format(*d.values())\n",
    "        inp = input( discard_prompt )\n",
    "        cards = [ d[int(i)] for i in inp.replace(' ','') ]\n",
    "        self.hand = [ n for n in self.hand if n not in cards ] \n",
    "        print( 'Discarded {} {} to crib'.format(*cards) )\n",
    "        return cards\n",
    "\n",
    "class NondeterministicAIPlayer(Player):\n",
    "    def ask_for_input(self, hand):\n",
    "        card = np.random.choice(hand) \n",
    "        return card\n",
    "    def ask_for_discards(self):\n",
    "        cards = self.hand[0:2]\n",
    "        self.hand = [ n for n in self.hand if n not in cards ] \n",
    "        return cards\n",
    "    \n",
    "# class NondeterministicAIPlayer(Player):\n",
    "class AIPlayer(Player):\n",
    "    def ask_for_input(self, hand):\n",
    "        card = np.random.choice(hand) \n",
    "        # not a very smart AI\n",
    "        # can it fool will? \n",
    "        return card"
   ]
  },
  {
   "cell_type": "code",
   "execution_count": 6,
   "metadata": {
    "collapsed": true
   },
   "outputs": [],
   "source": [
    "######################################################\n",
    "######## macro parts of the cribbage game"
   ]
  },
  {
   "cell_type": "code",
   "execution_count": 7,
   "metadata": {
    "collapsed": true
   },
   "outputs": [],
   "source": [
    "def discards( players ):\n",
    "    crib = []\n",
    "    for player in players:            \n",
    "        discards = player.ask_for_discards()\n",
    "        for c in discards:\n",
    "            crib.append(c) \n",
    "    return crib "
   ]
  },
  {
   "cell_type": "code",
   "execution_count": 8,
   "metadata": {
    "collapsed": false,
    "scrolled": false
   },
   "outputs": [],
   "source": [
    "def counting( players, with_gui=False ):\n",
    "    \n",
    "    # counting functions \n",
    "    def play( card ):\n",
    "        nonlocal count, turn, hands\n",
    "        plays.append( card ) \n",
    "        count += card.value\n",
    "        hands[turn] = [ n for n in hands[turn] if n != card ]         \n",
    "        #print( card, 'was played by player', turn ) \n",
    "        return count, hands \n",
    "\n",
    "    def say_go():\n",
    "        nonlocal score, turn  \n",
    "        score[turn^1] += 1 \n",
    "    \n",
    "    def validate_play( card, count ):\n",
    "        if card.value + count < 32:\n",
    "            return True \n",
    "        else:\n",
    "            return False \n",
    "    \n",
    "    # game logic         \n",
    "    hands = [player.hand for player in players]\n",
    "    turn = np.random.randint(2) # either 0 or 1 \n",
    "    count = 0\n",
    "    plays = []\n",
    "    play_runs = []\n",
    "    score = np.array([0,0]) # get a player's score like score[player_number] \n",
    "\n",
    "    while all(hands): # while any hand is not empty \n",
    "        while True: # we are counting toward 31 \n",
    "            if with_gui:\n",
    "                fmt_str = 'Turn: {} Count: {} Score: {} {}' \n",
    "                print( fmt_str.format( turn, count, *score ) )\n",
    "\n",
    "            # first, does whomever's turn it is even have cards? \n",
    "            if not hands[turn]:\n",
    "                break # out of while game_on \n",
    "            # first, is whoever's turn it is even have a legal move\n",
    "            # or do they have to say \"go\"? \n",
    "            if all([count+card.value>31 for card in hands[turn]]):\n",
    "                # they have to say \"go\" \n",
    "                # other person gets 1 point \n",
    "                score[turn^1] += 1 \n",
    "                if with_gui:\n",
    "                    print( \"Go --- player\", turn ) \n",
    "                break # out of \"while game_on\" \n",
    "\n",
    "            # generic turn \n",
    "            done = False\n",
    "            while not done: \n",
    "                card = players[turn].ask_for_input(hands[turn])\n",
    "                done = validate_play(card, count)\n",
    "            play(card) \n",
    "\n",
    "            # score and set up for next iteration \n",
    "            # current player is \n",
    "            if count == 31:\n",
    "                # we are done, son \n",
    "                score[ turn ] += 2 # 31 for 2 \n",
    "                break \n",
    "            if count == 15:\n",
    "                score[ turn ] += 2 # 15 for 2 \n",
    "\n",
    "            # swap turn     \n",
    "            turn ^= 1 # swap turn \n",
    "\n",
    "        # anything you want to happen after we stop couting to 31 \n",
    "        #print( \"Plays to 31:\", plays ) \n",
    "        play_runs.append( plays ) \n",
    "        count = 0 \n",
    "        plays = []\n",
    "        \n",
    "    # anything you want to happen after we don't have any cards left \n",
    "    # return from \"counting\" function \n",
    "    return score "
   ]
  },
  {
   "cell_type": "code",
   "execution_count": 9,
   "metadata": {
    "collapsed": true
   },
   "outputs": [],
   "source": [
    "# cribbage scoring \n",
    "# ai may never know this \n",
    "def score( hand ):\n",
    "\n",
    "    points = 0\n",
    "    assert len(hand) == 5\n",
    "\n",
    "    # fifteens  \n",
    "    for vector_length in [ 2, 3, 4, 5 ]:\n",
    "        for vector in combinations( hand, vector_length ):\n",
    "            if sum( [ card.value for card in vector ] ) == 15:\n",
    "                points += 2 \n",
    "\n",
    "    # pairs (not necessary to account for more than pairs for ==)\n",
    "    for i, j in combinations( hand, 2 ):\n",
    "        if i.rank == j.rank:\n",
    "            points += 2 \n",
    "\n",
    "    # runs\n",
    "    for vector_len in [ 5, 4, 3 ]:\n",
    "        for vec in combinations( hand, vector_len ):\n",
    "            vals = [ card.value for card in vec ]\n",
    "            run = [ n + min( vals ) for n in range( vector_len ) ]\n",
    "            if sorted( vals ) == run:\n",
    "                points += vector_len\n",
    "                break\n",
    "            break \n",
    "                      \n",
    "    return points \n",
    "\n"
   ]
  },
  {
   "cell_type": "code",
   "execution_count": 10,
   "metadata": {
    "collapsed": true
   },
   "outputs": [],
   "source": [
    "def discards( players ):\n",
    "    crib = []\n",
    "    for player in players:            \n",
    "        discards = player.ask_for_discards()\n",
    "        for c in discards:\n",
    "            crib.append(c) \n",
    "    return crib \n",
    "\n",
    "def scoring(players, turn_card):\n",
    "    # goes with \"score\" function \n",
    "    for player in players:\n",
    "        pool = player.hand + turn_card \n",
    "        player.score += score(pool) "
   ]
  },
  {
   "cell_type": "code",
   "execution_count": 11,
   "metadata": {
    "collapsed": true
   },
   "outputs": [],
   "source": [
    "#################################################\n",
    "# actual game "
   ]
  },
  {
   "cell_type": "code",
   "execution_count": 12,
   "metadata": {
    "collapsed": true
   },
   "outputs": [],
   "source": [
    "# a game without any user input \n",
    "\n",
    "def game_without_gui(players):\n",
    "    while players[0].score < 121 and players[1].score < 121:\n",
    "        turn = np.random.randint(2)\n",
    "        deck = Deck()\n",
    "        deck.shuffle()\n",
    "        for player in players:\n",
    "            player.hand = deck.draw(6)    \n",
    "        crib = discards(players)        # decisions \n",
    "        counting(players, with_gui=False)               # decisions \n",
    "        turn_card = deck.draw(1)\n",
    "        scoring(players, turn_card)\n",
    "        players[turn^1].score += score(crib+turn_card)\n",
    "    \n",
    "    return_val = [ player.score for player in players ] \n",
    "    for player in players:\n",
    "        player.clean()\n",
    "    return return_val "
   ]
  },
  {
   "cell_type": "code",
   "execution_count": 13,
   "metadata": {
    "collapsed": false,
    "scrolled": false
   },
   "outputs": [
    {
     "data": {
      "text/plain": [
       "[[121, 121],\n",
       " [128, 103],\n",
       " [61, 124],\n",
       " [112, 123],\n",
       " [122, 126],\n",
       " [125, 81],\n",
       " [82, 123],\n",
       " [123, 93],\n",
       " [122, 94],\n",
       " [127, 97]]"
      ]
     },
     "execution_count": 13,
     "metadata": {},
     "output_type": "execute_result"
    }
   ],
   "source": [
    "#p = [NondeterministicAIPlayer('p1'), NondeterministicAIPlayer('p2')]\n",
    "p = [NondeterministicAIPlayer(), NondeterministicAIPlayer('will')]\n",
    "[game_without_gui(p) for n in range(10)]"
   ]
  },
  {
   "cell_type": "code",
   "execution_count": null,
   "metadata": {
    "collapsed": false
   },
   "outputs": [],
   "source": [
    "def game_with_gui(players):\n",
    "    \n",
    "    p1, p2 = players #human first, by convention \n",
    "    \n",
    "    while p1.score < 121 and p1.score < 121:\n",
    "        \n",
    "        turn = np.random.randint(2) # 0 or 1, whose crib is it? \n",
    "        print( 'Dealer is player', turn ) \n",
    "        print( 'Shuffling deck and dealing cards' ) \n",
    "        deck = Deck()\n",
    "        deck.shuffle()\n",
    "        for player in players:\n",
    "            player.hand = deck.draw(6)    \n",
    "\n",
    "        # ask players for thier discards \n",
    "        crib = discards(players)        # decisions \n",
    "        \n",
    "        # run the counting sub-game \n",
    "        counting(players, with_gui=True)               # decisions \n",
    "        #assert len( p1.hand ) == len( p2.hand ) == 0 \n",
    "        print( 'After counting, the score is', p1.score, p2.score )\n",
    "        \n",
    "        # turn card and final scoring      \n",
    "        turn_card = deck.draw(1)\n",
    "        p1.peg(score(p1.hand+turn_card))\n",
    "        p2.peg(score(p2.hand+turn_card))\n",
    "#         scoring(players, turn_card)\n",
    "        players[turn^1].score += score(crib+turn_card)\n",
    "        \n",
    "    \n",
    "    return_val = [ player.score for player in players ] \n",
    "    for player in players:\n",
    "        player.clean()\n",
    "    return return_val "
   ]
  },
  {
   "cell_type": "code",
   "execution_count": null,
   "metadata": {
    "collapsed": false
   },
   "outputs": [
    {
     "name": "stdout",
     "output_type": "stream",
     "text": [
      "Dealer is player 1\n",
      "Shuffling deck and dealing cards\n"
     ]
    }
   ],
   "source": [
    "game_with_gui([HumanPlayer(), NondeterministicAIPlayer()])"
   ]
  },
  {
   "cell_type": "code",
   "execution_count": null,
   "metadata": {
    "collapsed": true
   },
   "outputs": [],
   "source": []
  }
 ],
 "metadata": {
  "kernelspec": {
   "display_name": "Python [conda root]",
   "language": "python",
   "name": "conda-root-py"
  },
  "language_info": {
   "codemirror_mode": {
    "name": "ipython",
    "version": 3
   },
   "file_extension": ".py",
   "mimetype": "text/x-python",
   "name": "python",
   "nbconvert_exporter": "python",
   "pygments_lexer": "ipython3",
   "version": "3.5.2"
  }
 },
 "nbformat": 4,
 "nbformat_minor": 2
}
