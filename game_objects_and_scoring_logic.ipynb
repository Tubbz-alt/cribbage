{
 "cells": [
  {
   "cell_type": "code",
   "execution_count": 15,
   "metadata": {
    "collapsed": true
   },
   "outputs": [],
   "source": [
    "from itertools import combinations \n",
    "from random import shuffle \n",
    "import numpy as np "
   ]
  },
  {
   "cell_type": "code",
   "execution_count": 16,
   "metadata": {
    "collapsed": false
   },
   "outputs": [],
   "source": [
    "class Card:\n",
    "    \n",
    "    def __repr__( self ):\n",
    "        return '{}{}'.format( self.display_rank, self.display_suit )\n",
    "    \n",
    "    def __init__( self, suit, rank ):\n",
    "        display_suits = [ 's', 'h', 'c', 'd' ]\n",
    "        display_ranks = [ 'A', 2, 3, 4, 5, 6, 7, 8, 9, 10, 'J', 'Q', 'K' ]\n",
    "        vals = [ 1, 2, 3, 4, 5, 6, 7, 8, 9, 10, 10, 10, 10 ]\n",
    "        map_suits = dict(zip(range(4),display_suits))\n",
    "        map_ranks = dict(zip(range(13),display_ranks))\n",
    "        map_vals = dict(zip(range(13),vals))\n",
    "\n",
    "        self.suit = suit\n",
    "        self.rank = rank \n",
    "        self.display_rank = map_ranks[ self.rank ]\n",
    "        self.display_suit = map_suits[ self.suit ]\n",
    "        self.value = map_vals[ self.rank ]\n",
    "        \n",
    "class Deck:\n",
    "    def __init__( self ):\n",
    "        self.cards = []\n",
    "        for s in range( 4 ):\n",
    "            for r in range( 13 ):\n",
    "                self.cards.append(Card(s, r))\n",
    "                \n",
    "    def shuffle( self ):\n",
    "        shuffle( self.cards )\n",
    "        \n",
    "    def draw( self, n ):\n",
    "        result = []\n",
    "        for i in range( n or 1 ):\n",
    "            result.append( self.cards.pop() ) \n",
    "        return result "
   ]
  },
  {
   "cell_type": "code",
   "execution_count": 17,
   "metadata": {
    "collapsed": false
   },
   "outputs": [],
   "source": [
    "def score( hand ):\n",
    "    # must be a 5 card hand to be valid \n",
    "    if len( hand ) == 5:\n",
    "        \n",
    "        # first, look for cards that add up to 15 \n",
    "        \n",
    "        points = 0\n",
    "        \n",
    "        # fifteens  \n",
    "        for vector_length in [ 2, 3, 4, 5 ]:\n",
    "            for vector in combinations( hand, vector_length ):\n",
    "                if sum( [ card.value for card in vector ] ) == 15:\n",
    "                    points += 2 \n",
    "                    \n",
    "        # pairs (not necessary to account for more than pairs)\n",
    "        for i, j in combinations( hand, 2 ):\n",
    "            if i.rank == j.rank:\n",
    "                points += 2 \n",
    "                \n",
    "        # runs\n",
    "        for vector_len in [ 5, 4, 3 ]:\n",
    "            for vec in combinations( hand, vector_len ):\n",
    "                vals = [ card.value for card in vec ]\n",
    "                run = [ n + min( vals ) for n in range( vector_len ) ]\n",
    "                if sorted( vals ) == run:\n",
    "                    points += vector_len\n",
    "                    break \n",
    "                      \n",
    "    return points "
   ]
  },
  {
   "cell_type": "code",
   "execution_count": 18,
   "metadata": {
    "collapsed": false
   },
   "outputs": [
    {
     "name": "stdout",
     "output_type": "stream",
     "text": [
      "4 [5h, Ac, 8h, 2c, Qs]\n",
      "7 [Kh, 5c, Qd, 4h, 3d]\n",
      "2 [6s, Jh, 4d, 10h, 10c]\n",
      "3 [8d, 9c, Ks, Qc, 2h]\n",
      "4 [Jd, 5d, 7c, 10s, As]\n"
     ]
    }
   ],
   "source": [
    "deck = Deck()\n",
    "deck.shuffle()\n",
    "for n in range( 5 ):\n",
    "    hnd = deck.draw(5)\n",
    "    print(score(hnd), hnd)"
   ]
  },
  {
   "cell_type": "code",
   "execution_count": 19,
   "metadata": {
    "collapsed": false
   },
   "outputs": [],
   "source": [
    "# # check to see if it's possible to make a score of 19 \n",
    "# for n in range( 10000 ):\n",
    "#     deck = Deck()\n",
    "#     deck.shuffle()\n",
    "#     hand = deck.draw(5)\n",
    "#     if score( hand ) == 19:\n",
    "#         print( 'Uh oh', hand ) "
   ]
  },
  {
   "cell_type": "code",
   "execution_count": 20,
   "metadata": {
    "collapsed": true
   },
   "outputs": [],
   "source": [
    "# all possible hands\n",
    "all_possible_hands = combinations( deck.cards, 5 ) "
   ]
  },
  {
   "cell_type": "code",
   "execution_count": 55,
   "metadata": {
    "collapsed": false
   },
   "outputs": [],
   "source": [
    "def play_a_hand():\n",
    "    \n",
    "    deck = Deck()\n",
    "    deck.shuffle()\n",
    "    \n",
    "    p0_hand = deck.draw(6)\n",
    "    p1_hand = deck.draw(6)\n",
    "    turn_card = deck.draw(1)\n",
    "    crib = []\n",
    "    \n",
    "    # player discard \n",
    "    crib.append( p0_hand.pop() ) \n",
    "    crib.append( p0_hand.pop() ) \n",
    "        \n",
    "    # computer discard \n",
    "    crib.append( p1_hand.pop() )\n",
    "    crib.append( p1_hand.pop() )\n",
    "        \n",
    "    #turn card and count hands \n",
    "    turn_card = deck.draw(1)\n",
    "    p0_score = score( p0_hand + turn_card ) \n",
    "    p1_score = score( p1_hand + turn_card ) \n",
    "    \n",
    "    # counting\n",
    "    plays = [] # list of tuples, format: (player, card) \n",
    "    for i in range( 4 ):\n",
    "        plays.append( p0_hand[i] )\n",
    "        plays.append( p1_hand[i] )\n",
    "    \n",
    "#     print( 'Player hand:', p0_hand ) \n",
    "#     print( 'Pone hand:', p1_hand ) \n",
    "#     print( 'Crib:', crib ) \n",
    "#     print( 'Turn:', turn_card ) \n",
    "    \n",
    "    play_vector = list(p0_hand) + list(p1_hand) + crib + list(turn_card) + plays\n",
    "    return ( p0_score, p1_score ), play_vector "
   ]
  },
  {
   "cell_type": "code",
   "execution_count": 56,
   "metadata": {
    "collapsed": false
   },
   "outputs": [
    {
     "name": "stdout",
     "output_type": "stream",
     "text": [
      "Score: ((4, 4), [10h, 9d, 5h, 2h, 9s, 2s, 8d, 6h, 6s, Kc, Qd, 5c, 4c, 10h, 9s, 9d, 2s, 5h, 8d, 2h, 6h])\n"
     ]
    }
   ],
   "source": [
    "print( 'Score:', play_a_hand() ) "
   ]
  },
  {
   "cell_type": "code",
   "execution_count": 57,
   "metadata": {
    "collapsed": false
   },
   "outputs": [],
   "source": [
    "def play_a_game():\n",
    "    '''\n",
    "    Plays a game of cribbage. Returns a winner, 0 or 1\n",
    "    '''\n",
    "    \n",
    "    sc = np.array([0,0]) \n",
    "    while True:\n",
    "        outcome, play_vector = play_a_hand()\n",
    "        sc += np.array(outcome)\n",
    "#         print( 'Score:', sc )\n",
    "        for i, p in enumerate( sc ):\n",
    "            if p > 120:\n",
    "                return (i, play_vector) # winner ID \n",
    "\n",
    "    return sc"
   ]
  },
  {
   "cell_type": "code",
   "execution_count": 58,
   "metadata": {
    "collapsed": false,
    "scrolled": false
   },
   "outputs": [
    {
     "data": {
      "text/plain": [
       "(1,\n",
       " [7d,\n",
       "  9s,\n",
       "  2h,\n",
       "  6d,\n",
       "  Jh,\n",
       "  8s,\n",
       "  Kc,\n",
       "  9h,\n",
       "  10h,\n",
       "  6c,\n",
       "  10c,\n",
       "  Qc,\n",
       "  5c,\n",
       "  7d,\n",
       "  Jh,\n",
       "  9s,\n",
       "  8s,\n",
       "  2h,\n",
       "  Kc,\n",
       "  6d,\n",
       "  9h])"
      ]
     },
     "execution_count": 58,
     "metadata": {},
     "output_type": "execute_result"
    }
   ],
   "source": [
    "play_a_game()"
   ]
  },
  {
   "cell_type": "code",
   "execution_count": null,
   "metadata": {
    "collapsed": true
   },
   "outputs": [],
   "source": []
  }
 ],
 "metadata": {
  "kernelspec": {
   "display_name": "Python [conda root]",
   "language": "python",
   "name": "conda-root-py"
  },
  "language_info": {
   "codemirror_mode": {
    "name": "ipython",
    "version": 3
   },
   "file_extension": ".py",
   "mimetype": "text/x-python",
   "name": "python",
   "nbconvert_exporter": "python",
   "pygments_lexer": "ipython3",
   "version": "3.5.2"
  }
 },
 "nbformat": 4,
 "nbformat_minor": 2
}
